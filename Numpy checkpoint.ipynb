{
 "cells": [
  {
   "cell_type": "code",
   "execution_count": 5,
   "id": "e6fcfef6",
   "metadata": {},
   "outputs": [
    {
     "name": "stdout",
     "output_type": "stream",
     "text": [
      "Veuillez entrer le nombre d'élèves :6\n",
      "Veuillez entrer le nombre de matières :4\n",
      "Entrez la note de l'étudiant 1 pour la matière 1 : 12\n",
      "Entrez la note de l'étudiant 1 pour la matière 2 : 20\n",
      "Entrez la note de l'étudiant 1 pour la matière 3 : 14\n",
      "Entrez la note de l'étudiant 1 pour la matière 4 : 16\n",
      "Entrez la note de l'étudiant 2 pour la matière 1 : 15\n",
      "Entrez la note de l'étudiant 2 pour la matière 2 : 15.2\n",
      "Entrez la note de l'étudiant 2 pour la matière 3 : 16\n",
      "Entrez la note de l'étudiant 2 pour la matière 4 : 20\n",
      "Entrez la note de l'étudiant 3 pour la matière 1 : 28\n",
      "Entrez la note de l'étudiant 3 pour la matière 2 : 90\n",
      "Entrez la note de l'étudiant 3 pour la matière 3 : 70\n",
      "Entrez la note de l'étudiant 3 pour la matière 4 : 46\n",
      "Entrez la note de l'étudiant 4 pour la matière 1 : 28.36\n",
      "Entrez la note de l'étudiant 4 pour la matière 2 : 65\n",
      "Entrez la note de l'étudiant 4 pour la matière 3 : 17\n",
      "Entrez la note de l'étudiant 4 pour la matière 4 : 89\n",
      "Entrez la note de l'étudiant 5 pour la matière 1 : 78\n",
      "Entrez la note de l'étudiant 5 pour la matière 2 : 45\n",
      "Entrez la note de l'étudiant 5 pour la matière 3 : 54\n",
      "Entrez la note de l'étudiant 5 pour la matière 4 : 90\n",
      "Entrez la note de l'étudiant 6 pour la matière 1 : 90\n",
      "Entrez la note de l'étudiant 6 pour la matière 2 : 100\n",
      "Entrez la note de l'étudiant 6 pour la matière 3 : 90\n",
      "Entrez la note de l'étudiant 6 pour la matière 4 : 100\n",
      "[ 62.    66.2  234.   199.36 267.   380.  ]\n",
      "Nom de l'étudiant\tTotal des notes\tPourcentage\tNote\n",
      "Étudiant 1\t\t62.0\t\t15.50\t\tF\n",
      "Étudiant 2\t\t66.2\t\t16.55\t\tF\n",
      "Étudiant 3\t\t234.0\t\t58.50\t\tC\n",
      "Étudiant 4\t\t199.36\t\t49.84\t\tF\n",
      "Étudiant 5\t\t267.0\t\t66.75\t\tB\n",
      "Étudiant 6\t\t380.0\t\t95.00\t\tA+\n"
     ]
    }
   ],
   "source": [
    "import numpy as np\n",
    "nbr_eleves=int(input(\"Veuillez entrer le nombre d'élèves :\"))\n",
    "nbr_matieres=int(input(\"Veuillez entrer le nombre de matières :\"))\n",
    "notes=np.zeros((nbr_eleves,nbr_matieres))\n",
    "for i in range (nbr_eleves):\n",
    "    for j in range (nbr_matieres):\n",
    "        notes[i,j]=float(input(f\"Entrez la note de l'étudiant {i+1} pour la matière {j+1} : \"))\n",
    "total_notes=np.sum(notes,axis=1) #axis=1 signifie que la somme est effectuée le long de l'axe horizontal càd pour chaque ligne du tableau.\n",
    "#Si nous avions spécifié axis=0,la somme aurait été effectuée le long de l'axe vertical,càd pour chaque colonne du tableau, et nous aurions obtenu le total des notes pour chaque matière.\n",
    "print(total_notes)\n",
    "pourcentage=(total_notes/(nbr_matieres*100))*100\n",
    "note = []\n",
    "for p in pourcentage:\n",
    "    if p >= 90:\n",
    "        note.append(\"A+\")\n",
    "    elif p >= 80:\n",
    "        note.append(\"A\")\n",
    "    elif p >= 70:\n",
    "        note.append(\"B+\")\n",
    "    elif p >= 60:\n",
    "        note.append(\"B\")\n",
    "    elif p >= 50:\n",
    "        note.append(\"C\")\n",
    "    else:\n",
    "        note.append(\"F\")\n",
    "\n",
    "# Afficher les résultats sous forme de tableau\n",
    "print(\"Nom de l'étudiant\\tTotal des notes\\tPourcentage\\tNote\")\n",
    "for i in range(nbr_eleves):\n",
    "    print(f\"Étudiant {i+1}\\t\\t{total_notes[i]}\\t\\t{pourcentage[i]:.2f}\\t\\t{note[i]}\")"
   ]
  },
  {
   "cell_type": "code",
   "execution_count": null,
   "id": "35d64615",
   "metadata": {},
   "outputs": [],
   "source": []
  }
 ],
 "metadata": {
  "kernelspec": {
   "display_name": "Python 3",
   "language": "python",
   "name": "python3"
  },
  "language_info": {
   "codemirror_mode": {
    "name": "ipython",
    "version": 3
   },
   "file_extension": ".py",
   "mimetype": "text/x-python",
   "name": "python",
   "nbconvert_exporter": "python",
   "pygments_lexer": "ipython3",
   "version": "3.8.8"
  }
 },
 "nbformat": 4,
 "nbformat_minor": 5
}
