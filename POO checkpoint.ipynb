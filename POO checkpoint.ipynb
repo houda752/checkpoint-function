{
 "cells": [
  {
   "cell_type": "code",
   "execution_count": 1,
   "id": "2a242389",
   "metadata": {},
   "outputs": [
    {
     "name": "stdout",
     "output_type": "stream",
     "text": [
      "(1, 2, 3)\n"
     ]
    }
   ],
   "source": [
    "#question1\n",
    "class Point3D:\n",
    "\n",
    "    def __init__(self,x,y,z):\n",
    "        self.x=x\n",
    "        self.y=y\n",
    "        self.z=z\n",
    "    def meth(self):\n",
    "        return self.x,self.y,self.z\n",
    "my_point=Point3D(1,2,3)\n",
    "print(my_point.meth())"
   ]
  },
  {
   "cell_type": "code",
   "execution_count": 2,
   "id": "c159f99f",
   "metadata": {},
   "outputs": [
    {
     "name": "stdout",
     "output_type": "stream",
     "text": [
      "12\n",
      "14\n"
     ]
    }
   ],
   "source": [
    "#question2\n",
    "class rectangle:\n",
    "    def __init__(self,longueur,largeur):\n",
    "        self.longueur=longueur\n",
    "        self.largeur=largeur\n",
    "        \n",
    "    def aire(self):\n",
    "        ar=self.longueur*self.largeur\n",
    "        return ar\n",
    "    def perimetre(self):\n",
    "        per=2*(self.longueur+self.largeur)\n",
    "        return per\n",
    "    \n",
    "my_rectangle=rectangle(4,3)  \n",
    "print(my_rectangle.aire())\n",
    "print(my_rectangle.perimetre())\n",
    "    "
   ]
  },
  {
   "cell_type": "code",
   "execution_count": 3,
   "id": "87bfe4c7",
   "metadata": {},
   "outputs": [
    {
     "name": "stdout",
     "output_type": "stream",
     "text": [
      "28.259999999999998\n",
      "18.84\n",
      "A n'appartient pas au cercle\n"
     ]
    }
   ],
   "source": [
    "#question3\n",
    "import math\n",
    "class circle:\n",
    "    def __init__(self,o,r):\n",
    "        self.o=o\n",
    "        self.r=r\n",
    "        \n",
    "    def aire(self):\n",
    "        ar=3.14*self.r*self.r\n",
    "        return ar\n",
    "    def perimetre(self):\n",
    "        per=2*3.14*self.r\n",
    "        return per\n",
    "    def inside(self,x,y):\n",
    "        dist=math.sqrt(x**2+y**2)\n",
    "        if dist<=self.r:\n",
    "            return \"A appartient au cercle\"\n",
    "        else:\n",
    "            return \"A n'appartient pas au cercle\"\n",
    "     \n",
    "    \n",
    "my_circle=circle(0,3)  \n",
    "print(my_circle.aire())\n",
    "print(my_circle.perimetre())\n",
    "print(my_circle.inside(9,7))"
   ]
  },
  {
   "cell_type": "code",
   "execution_count": 4,
   "id": "ac509eb5",
   "metadata": {},
   "outputs": [
    {
     "name": "stdout",
     "output_type": "stream",
     "text": [
      "4200\n",
      "4100\n"
     ]
    }
   ],
   "source": [
    "#Question4\n",
    "class BANK:\n",
    "    def __init__(self,solde):\n",
    "        self.solde=solde\n",
    "        \n",
    "    def depot(self,a):#soit a le montant à déposer\n",
    "        self.solde=self.solde+a\n",
    "        return self.solde\n",
    "    \n",
    "    def retrait(self,b): \n",
    "        self.solde=self.solde-b\n",
    "        return self.solde\n",
    "\n",
    "my_operation=BANK(3000)  \n",
    "print(my_operation.depot(1200))\n",
    "print(my_operation.retrait(100))"
   ]
  },
  {
   "cell_type": "code",
   "execution_count": null,
   "id": "5c5aecc4",
   "metadata": {},
   "outputs": [],
   "source": []
  }
 ],
 "metadata": {
  "kernelspec": {
   "display_name": "Python 3",
   "language": "python",
   "name": "python3"
  },
  "language_info": {
   "codemirror_mode": {
    "name": "ipython",
    "version": 3
   },
   "file_extension": ".py",
   "mimetype": "text/x-python",
   "name": "python",
   "nbconvert_exporter": "python",
   "pygments_lexer": "ipython3",
   "version": "3.8.8"
  }
 },
 "nbformat": 4,
 "nbformat_minor": 5
}
