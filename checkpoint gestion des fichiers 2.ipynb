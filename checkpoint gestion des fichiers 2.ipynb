{
 "cells": [
  {
   "cell_type": "code",
   "execution_count": null,
   "id": "f23f79a2",
   "metadata": {},
   "outputs": [],
   "source": [
    "#Question1:\n",
    "f=open(\"mon_ficher.txt,\"r)\n",
    "contenu=f.read()\n",
    "#question2\n",
    "for i in range(n):\n",
    "    line=f.readline()\n",
    "    if line :\n",
    "        print(line)\n",
    "    else:\n",
    "        break\n",
    "#question3\n",
    "for j in range (-n,0):\n",
    "    lastlines=f.read()\n",
    "#question4\n",
    "mots=contenu.split()\n",
    "nbr_mots=len(mots)\n",
    "print(f\"Le nombre de mots est {nbr_mots} mots\")\n",
    "f.close()"
   ]
  }
 ],
 "metadata": {
  "kernelspec": {
   "display_name": "Python 3",
   "language": "python",
   "name": "python3"
  },
  "language_info": {
   "codemirror_mode": {
    "name": "ipython",
    "version": 3
   },
   "file_extension": ".py",
   "mimetype": "text/x-python",
   "name": "python",
   "nbconvert_exporter": "python",
   "pygments_lexer": "ipython3",
   "version": "3.8.8"
  }
 },
 "nbformat": 4,
 "nbformat_minor": 5
}
