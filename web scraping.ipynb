{
 "cells": [
  {
   "cell_type": "code",
   "execution_count": 4,
   "id": "7359330d",
   "metadata": {},
   "outputs": [
    {
     "name": "stdout",
     "output_type": "stream",
     "text": [
      "<Response [200]>\n"
     ]
    }
   ],
   "source": [
    "import requests\n",
    "from bs4 import BeautifulSoup\n",
    "#Question1\n",
    "page=requests.get(\"https://fr.wikipedia.org/wiki/OK_(expression)#:~:text=OK%20%2F%C9%94k%C9%9B%2F%20ou%20%2Foke,accord%20%C2%BB%2C%20%C2%AB%20correct%20%C2%BB.\")\n",
    "#question2\n",
    "print(page)\n"
   ]
  },
  {
   "cell_type": "code",
   "execution_count": 21,
   "id": "43868d0a",
   "metadata": {},
   "outputs": [
    {
     "data": {
      "text/plain": [
       "\"En anglais américain, cette interjection peut se prononcer /keɪ/ ou /mkeɪ/.  Le deuxième n'est pas conforme aux règles phonotactiques habituelles de l'anglais, ce qui pourrait corroborer la thèse d'une origine étrangère (cf. paragraphe Étymologie ci-après).\\n\""
      ]
     },
     "execution_count": 21,
     "metadata": {},
     "output_type": "execute_result"
    }
   ],
   "source": [
    "soup = BeautifulSoup(page.content,\"html\")\n",
    "pa = soup.find(\"div\",{\"class\":\"mw-parser-output\"}) #find() fiha 2 paramètres : div et class w sa valeur\n",
    "pas = pa.find_all(\"p\") #ça renvoie une liste\n",
    "pas[5].text #renvoie le texte du paragraphe"
   ]
  },
  {
   "cell_type": "code",
   "execution_count": 40,
   "id": "98d956df",
   "metadata": {},
   "outputs": [],
   "source": [
    "info=soup.find_all(\"div\",{\"class\":\"thumbcaption\"})\n",
    "info[1].img"
   ]
  },
  {
   "cell_type": "code",
   "execution_count": 8,
   "id": "e9fd383a",
   "metadata": {},
   "outputs": [
    {
     "name": "stdout",
     "output_type": "stream",
     "text": [
      "ENSAM — Wikipédia\n"
     ]
    }
   ],
   "source": [
    "import requests\n",
    "from bs4 import BeautifulSoup\n",
    "\n",
    "#question1\n",
    "page=requests.get(\"https://fr.wikipedia.org/wiki/ENSAM\")\n",
    "soup=BeautifulSoup(page.content,\"html.parser\")\n",
    "\n",
    "#question2\n",
    "title = soup.title.string\n",
    "#print(title)\n",
    "\n",
    "#question3\n",
    "# Trouve toutes les rubriques et les paragraphes de la page\n",
    "rubriques = soup.find_all(['h2', 'h3'])\n",
    "paragraphes = soup.find_all('p')\n",
    "# Affiche le texte de chaque rubrique et de chaque paragraphe\n",
    "for rubrique in rubriques:\n",
    "    print(rubrique.text.strip() + ':') #La fonction strip() est une fonction utilisée pour supprimer\n",
    "                                            #les espaces (et d'autres caractères) au début et à la fin d'une chaîne.\n",
    "    for sibling in rubrique.find_next_siblings():\n",
    "        if sibling.name in ['h2', 'h3']:\n",
    "            break\n",
    "        if sibling.name == 'p':\n",
    "            print(sibling.get_text().strip())\n",
    "\n",
    "\n",
    "\n",
    "\n"
   ]
  },
  {
   "cell_type": "code",
   "execution_count": null,
   "id": "8b53d6a7",
   "metadata": {},
   "outputs": [],
   "source": []
  },
  {
   "cell_type": "code",
   "execution_count": null,
   "id": "247c0e3b",
   "metadata": {},
   "outputs": [],
   "source": []
  }
 ],
 "metadata": {
  "kernelspec": {
   "display_name": "Python 3",
   "language": "python",
   "name": "python3"
  },
  "language_info": {
   "codemirror_mode": {
    "name": "ipython",
    "version": 3
   },
   "file_extension": ".py",
   "mimetype": "text/x-python",
   "name": "python",
   "nbconvert_exporter": "python",
   "pygments_lexer": "ipython3",
   "version": "3.8.8"
  }
 },
 "nbformat": 4,
 "nbformat_minor": 5
}
