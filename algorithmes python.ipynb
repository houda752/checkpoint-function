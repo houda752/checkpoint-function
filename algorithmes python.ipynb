{
 "cells": [
  {
   "cell_type": "code",
   "execution_count": 18,
   "id": "f8bdec53",
   "metadata": {},
   "outputs": [
    {
     "name": "stdout",
     "output_type": "stream",
     "text": [
      "True\n"
     ]
    }
   ],
   "source": [
    "#Question1:\n",
    "def rech_binaire(liste,valeur):\n",
    "    debut=0\n",
    "    fin=len(liste)-1\n",
    "    find=False\n",
    "    while debut<=fin and not find:\n",
    "        milieu=(debut+fin)//2\n",
    "        if liste[milieu]==valeur:\n",
    "            find=True\n",
    "        elif valeur<liste[milieu]:\n",
    "            fin=milieu-1\n",
    "        else:\n",
    "            debut=milieu+1\n",
    "    return find\n",
    "\n",
    "print(rech_binaire([1,2,3,5,8],5))\n",
    "    "
   ]
  },
  {
   "cell_type": "code",
   "execution_count": 1,
   "id": "f779176e",
   "metadata": {},
   "outputs": [
    {
     "name": "stdout",
     "output_type": "stream",
     "text": [
      "81\n"
     ]
    }
   ],
   "source": [
    "#Question2\n",
    "def puissance(a, b):\n",
    "    resultat = 1\n",
    "    for i in range(b):\n",
    "        resultat = resultat * a\n",
    "    return resultat\n",
    "print(puissance(3,4))"
   ]
  },
  {
   "cell_type": "code",
   "execution_count": 23,
   "id": "3e5eb895",
   "metadata": {},
   "outputs": [
    {
     "data": {
      "text/plain": [
       "[13, 22, 29, 37, 46, 49, 52, 56, 71]"
      ]
     },
     "execution_count": 23,
     "metadata": {},
     "output_type": "execute_result"
    }
   ],
   "source": [
    "#question3\n",
    "def tri_bulles(liste):\n",
    "    n=len(liste)\n",
    "    while n > 0:\n",
    "        for i in range(n-1):\n",
    "            if liste[i]>liste[i+1]:\n",
    "                liste[i],liste[i+1]=liste[i+1],liste[i]\n",
    "        n-=1\n",
    "    return liste\n",
    "tri_bulles( [29,13,22,37,52,49,46,71,56])"
   ]
  },
  {
   "cell_type": "code",
   "execution_count": 24,
   "id": "e6c8db70",
   "metadata": {},
   "outputs": [
    {
     "data": {
      "text/plain": [
       "[13, 22, 29, 37, 46, 49, 52, 56, 71]"
      ]
     },
     "execution_count": 24,
     "metadata": {},
     "output_type": "execute_result"
    }
   ],
   "source": [
    "#Question4\n",
    "def tri_fusion(liste):\n",
    "    if len(liste) <= 1:\n",
    "        return liste\n",
    "    \n",
    "    milieu = len(liste) // 2\n",
    "    gauche = liste[:milieu]\n",
    "    droite = liste[milieu:]\n",
    "    \n",
    "    gauche = tri_fusion(gauche)\n",
    "    droite = tri_fusion(droite)\n",
    "    \n",
    "    fusion = []\n",
    "    i, j = 0, 0\n",
    "    \n",
    "    while i < len(gauche) and j < len(droite):\n",
    "        if gauche[i] <= droite[j]:\n",
    "            fusion.append(gauche[i])\n",
    "            i += 1\n",
    "        else:\n",
    "            fusion.append(droite[j])\n",
    "            j += 1\n",
    "    \n",
    "    fusion += gauche[i:]\n",
    "    fusion += droite[j:]\n",
    "    \n",
    "    return fusion\n",
    "tri_fusion([29,13,22,37,52,49,46,71,56])"
   ]
  },
  {
   "cell_type": "code",
   "execution_count": 25,
   "id": "e44f689c",
   "metadata": {},
   "outputs": [
    {
     "name": "stdout",
     "output_type": "stream",
     "text": [
      "[1, 1, 2, 3, 3, 4, 5, 5, 5, 6, 9]\n"
     ]
    }
   ],
   "source": [
    "#question5\n",
    "def tri_rapide(liste):\n",
    "    if len(liste) <= 1:\n",
    "        return liste\n",
    "\n",
    "    pivot = liste[0]\n",
    "    petits = []\n",
    "    grands = []\n",
    "    egaux = []\n",
    "\n",
    "    for element in liste:\n",
    "        if element < pivot:\n",
    "            petits.append(element)\n",
    "        elif element > pivot:\n",
    "            grands.append(element)\n",
    "        else:\n",
    "            egaux.append(element)\n",
    "\n",
    "    return tri_rapide(petits) + egaux + tri_rapide(grands)\n",
    "\n",
    "# Exemple d'utilisation\n",
    "liste = [3, 1, 4, 1, 5, 9, 2, 6, 5, 3, 5]\n",
    "liste_triee = tri_rapide(liste)\n",
    "print(liste_triee)\n"
   ]
  },
  {
   "cell_type": "code",
   "execution_count": null,
   "id": "edec3526",
   "metadata": {},
   "outputs": [],
   "source": []
  }
 ],
 "metadata": {
  "kernelspec": {
   "display_name": "Python 3",
   "language": "python",
   "name": "python3"
  },
  "language_info": {
   "codemirror_mode": {
    "name": "ipython",
    "version": 3
   },
   "file_extension": ".py",
   "mimetype": "text/x-python",
   "name": "python",
   "nbconvert_exporter": "python",
   "pygments_lexer": "ipython3",
   "version": "3.8.8"
  }
 },
 "nbformat": 4,
 "nbformat_minor": 5
}
