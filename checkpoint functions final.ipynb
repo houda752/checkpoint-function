{
 "cells": [
  {
   "cell_type": "code",
   "execution_count": 1,
   "id": "e085094f",
   "metadata": {},
   "outputs": [
    {
     "data": {
      "text/plain": [
       "35"
      ]
     },
     "execution_count": 1,
     "metadata": {},
     "output_type": "execute_result"
    }
   ],
   "source": [
    "#Question 1\n",
    "def maxi(a,b,c):\n",
    "    if a>=b and a>=c:\n",
    "        return a\n",
    "    elif b>=a and b>=c:\n",
    "        return b\n",
    "    else:\n",
    "        return c\n",
    "maxi(20,35,19)"
   ]
  },
  {
   "cell_type": "code",
   "execution_count": 2,
   "id": "d5b75100",
   "metadata": {},
   "outputs": [
    {
     "name": "stdout",
     "output_type": "stream",
     "text": [
      "(50, 30)\n"
     ]
    }
   ],
   "source": [
    "#Question 2\n",
    "def calcul(a,b):\n",
    "    s =a+b\n",
    "    d =a-b\n",
    "    return s,d\n",
    "print(calcul(40,10))"
   ]
  },
  {
   "cell_type": "code",
   "execution_count": 3,
   "id": "bce418ca",
   "metadata": {},
   "outputs": [
    {
     "name": "stdout",
     "output_type": "stream",
     "text": [
      "[2, 4, 6]\n",
      "[1, 3, 5]\n",
      "12\n",
      "15\n"
     ]
    }
   ],
   "source": [
    "#Question 3\n",
    "liste=[1,2,3,4,5,6]\n",
    "def somme_liste(liste):\n",
    "    somme = 0\n",
    "    for element in liste:\n",
    "        somme += element\n",
    "    return somme\n",
    "    \n",
    "\n",
    "def mult_liste(liste):\n",
    "    produit=1\n",
    "    for element in liste:\n",
    "        produit*=element\n",
    "    return produit\n",
    "L1=[]\n",
    "L2=[]\n",
    "for element in liste:\n",
    "    if element%2==0:\n",
    "       L1.append(element)\n",
    "    else:\n",
    "        L2.append(element)\n",
    "print(L1)\n",
    "print(L2)\n",
    "print(somme_liste(L1))\n",
    "print(mult_liste(L2))\n"
   ]
  },
  {
   "cell_type": "code",
   "execution_count": 6,
   "id": "b1acb08e",
   "metadata": {},
   "outputs": [
    {
     "name": "stdout",
     "output_type": "stream",
     "text": [
      "H\n"
     ]
    }
   ],
   "source": [
    "#Question 4\n",
    "my_dict={\"name\":\"Houda\"}\n",
    "def first_letter_maj(dictionary):\n",
    "    for value in dictionary.values():\n",
    "        first_letter=value[0].upper()\n",
    "    return first_letter\n",
    "print(first_letter_maj(my_dict))\n",
    "\n"
   ]
  },
  {
   "cell_type": "code",
   "execution_count": 8,
   "id": "7e403167",
   "metadata": {},
   "outputs": [
    {
     "name": "stdout",
     "output_type": "stream",
     "text": [
      "school\n"
     ]
    }
   ],
   "source": [
    "#question 5\n",
    "my_dict={\"name\":\"Houda\",\"school\":\"ensamcasa\"}\n",
    "def plus_grd_mot(dictionary):\n",
    "    plus_grd = ''\n",
    "    for mot in dictionary.keys():\n",
    "        if len(mot) > len(plus_grd):\n",
    "            plus_grd = mot\n",
    "    return plus_grd\n",
    "print(plus_grd_mot(my_dict))\n"
   ]
  },
  {
   "cell_type": "code",
   "execution_count": 1,
   "id": "8cfe5b32",
   "metadata": {},
   "outputs": [
    {
     "name": "stdout",
     "output_type": "stream",
     "text": [
      "Entrez une séquence de mots séparés par des tirets: sdf-lean-edp\n",
      "edp-lean-sdf\n"
     ]
    }
   ],
   "source": [
    "#Question 6\n",
    "chaine = input(\"Entrez une séquence de mots séparés par des tirets: \")\n",
    "liste_mots = chaine.split(\"-\")   # Divise la chaîne en une liste de mots en utilisant le tiret comme séparateur\n",
    "liste_mots.sort()               # Trie la liste de mots par ordre alphabétique\n",
    "chaine_triee = \"-\".join(liste_mots) # Joindre la liste de mots triés en utilisant le tiret comme séparateur\n",
    "print(chaine_triee)     "
   ]
  },
  {
   "cell_type": "code",
   "execution_count": 2,
   "id": "1ed3b18c",
   "metadata": {},
   "outputs": [
    {
     "name": "stdout",
     "output_type": "stream",
     "text": [
      "(18, 22, 24)\n"
     ]
    }
   ],
   "source": [
    "#Question 7\n",
    "import math \n",
    "def calculQ(D1,D2,D3):\n",
    "    C=50\n",
    "    H=30\n",
    "    \n",
    "    Q1=int(math.sqrt((2*C*D1)/H))\n",
    "    Q2=int(math.sqrt((2*C*D2)/H))\n",
    "    Q3=int(math.sqrt((2*C*D3)/H))\n",
    "    return Q1,Q2,Q3\n",
    "print(calculQ(100,150,180))"
   ]
  },
  {
   "cell_type": "code",
   "execution_count": null,
   "id": "7e5b0cc0",
   "metadata": {},
   "outputs": [],
   "source": []
  },
  {
   "cell_type": "code",
   "execution_count": null,
   "id": "989790ff",
   "metadata": {},
   "outputs": [],
   "source": []
  }
 ],
 "metadata": {
  "kernelspec": {
   "display_name": "Python 3",
   "language": "python",
   "name": "python3"
  },
  "language_info": {
   "codemirror_mode": {
    "name": "ipython",
    "version": 3
   },
   "file_extension": ".py",
   "mimetype": "text/x-python",
   "name": "python",
   "nbconvert_exporter": "python",
   "pygments_lexer": "ipython3",
   "version": "3.8.8"
  }
 },
 "nbformat": 4,
 "nbformat_minor": 5
}
